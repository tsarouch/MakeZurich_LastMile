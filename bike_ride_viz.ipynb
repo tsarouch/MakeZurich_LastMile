{
 "cells": [
  {
   "cell_type": "markdown",
   "metadata": {},
   "source": [
    "## Aim:\n",
    "\n",
    "We aim to see the evolvement of the temperature of a typical ride projected on the map of trajectory. Eventually we see the \n",
    "- path of the bike across the city\n",
    "- temperature rise across the bike ride"
   ]
  },
  {
   "cell_type": "markdown",
   "metadata": {},
   "source": [
    "### The beer box\n",
    "This is our simulation of the bike-transportation box. The sensitive products (e.g. medicine), that have to be transported in low temperatures, is simulated usinga cold beer. \n",
    "\n",
    "<img style=\"float:left;transform: rotate(180deg); width:300px\" src=\"pics/beer_box.JPG\" />"
   ]
  },
  {
   "cell_type": "code",
   "execution_count": 178,
   "metadata": {
    "collapsed": true
   },
   "outputs": [],
   "source": [
    "import pandas as pd\n",
    "import folium\n",
    "import numpy as np\n",
    "import os\n",
    "import numpy as np\n",
    "import matplotlib.pyplot as plt\n",
    "%matplotlib inline"
   ]
  },
  {
   "cell_type": "code",
   "execution_count": 282,
   "metadata": {},
   "outputs": [
    {
     "data": {
      "text/html": [
       "<div>\n",
       "<table border=\"1\" class=\"dataframe\">\n",
       "  <thead>\n",
       "    <tr style=\"text-align: right;\">\n",
       "      <th></th>\n",
       "      <th>timestamp</th>\n",
       "      <th>lat</th>\n",
       "      <th>lon</th>\n",
       "      <th>t-in</th>\n",
       "      <th>t-out</th>\n",
       "    </tr>\n",
       "  </thead>\n",
       "  <tbody>\n",
       "    <tr>\n",
       "      <th>2018-06-29T17:14:34.587Z</th>\n",
       "      <td>2018-06-29T17:14:34.587Z</td>\n",
       "      <td>47.372006</td>\n",
       "      <td>8.531828</td>\n",
       "      <td>17.698669</td>\n",
       "      <td>24.241638</td>\n",
       "    </tr>\n",
       "    <tr>\n",
       "      <th>2018-06-29T17:14:46.919Z</th>\n",
       "      <td>2018-06-29T17:14:46.919Z</td>\n",
       "      <td>47.371995</td>\n",
       "      <td>8.531871</td>\n",
       "      <td>17.799377</td>\n",
       "      <td>24.127197</td>\n",
       "    </tr>\n",
       "  </tbody>\n",
       "</table>\n",
       "</div>"
      ],
      "text/plain": [
       "                                         timestamp        lat       lon  \\\n",
       "2018-06-29T17:14:34.587Z  2018-06-29T17:14:34.587Z  47.372006  8.531828   \n",
       "2018-06-29T17:14:46.919Z  2018-06-29T17:14:46.919Z  47.371995  8.531871   \n",
       "\n",
       "                               t-in      t-out  \n",
       "2018-06-29T17:14:34.587Z  17.698669  24.241638  \n",
       "2018-06-29T17:14:46.919Z  17.799377  24.127197  "
      ]
     },
     "execution_count": 282,
     "metadata": {},
     "output_type": "execute_result"
    }
   ],
   "source": [
    "df = pd.read_json('ride_data/bike_ride.json')\n",
    "df = df.rename(columns = {'receivedAt':'timestamp',\n",
    "                    'temp-inside':'t-in',\n",
    "                    'temp-outside':'t-out'})\n",
    "\n",
    "df['lat'] = df['lat'].apply(lambda x: None if x==0 else float(x))\n",
    "df['lon'] = df['lon'].apply(lambda x: None if x==0 else float(x))\n",
    "df = df.dropna()\n",
    "\n",
    "# keep some datetime object in nice format\n",
    "df['datetime'] = pd.to_datetime(df['timestamp'])\n",
    "df['datetime'] = df['datetime'].apply(lambda x: x.strftime(\"%Y-%m-%d %H:%M\"))\n",
    "\n",
    "df = df[['timestamp', 'lat', 'lon', 't-in', 't-out']]\n",
    "df.index = df['timestamp'].values\n",
    "\n",
    "# hack \n",
    "# reverse the temp because in this setup the cold beer, first cools down the box and then the heating process starts.\n",
    "df['t-in'] = df['t-in'].values[::-1]\n",
    "df['t-out'] = df['t-out'].values[::-1] # also t-out is actually inside the box in this setup\n",
    "\n",
    "# and save it to csv\n",
    "df.to_csv('ride_data/bike_ride.csv', index=False)\n",
    "\n",
    "df.head(2)"
   ]
  },
  {
   "cell_type": "markdown",
   "metadata": {},
   "source": [
    "## Visualize Heatmap across the ride "
   ]
  },
  {
   "cell_type": "code",
   "execution_count": 301,
   "metadata": {
    "collapsed": true
   },
   "outputs": [],
   "source": [
    "lat0 = df['lat'].values[0]\n",
    "lon0 = df['lon'].values[0]"
   ]
  },
  {
   "cell_type": "code",
   "execution_count": 300,
   "metadata": {},
   "outputs": [
    {
     "name": "stderr",
     "output_type": "stream",
     "text": [
      "/Users/charilaostsarouchas/anaconda/lib/python2.7/site-packages/sklearn/preprocessing/data.py:321: DeprecationWarning: Passing 1d arrays as data is deprecated in 0.17 and will raise ValueError in 0.19. Reshape your data either using X.reshape(-1, 1) if your data has a single feature or X.reshape(1, -1) if it contains a single sample.\n",
      "  warnings.warn(DEPRECATION_MSG_1D, DeprecationWarning)\n",
      "/Users/charilaostsarouchas/anaconda/lib/python2.7/site-packages/sklearn/preprocessing/data.py:356: DeprecationWarning: Passing 1d arrays as data is deprecated in 0.17 and will raise ValueError in 0.19. Reshape your data either using X.reshape(-1, 1) if your data has a single feature or X.reshape(1, -1) if it contains a single sample.\n",
      "  warnings.warn(DEPRECATION_MSG_1D, DeprecationWarning)\n"
     ]
    }
   ],
   "source": [
    "# scale so that the change of temp is obvious\n",
    "from sklearn.preprocessing import MinMaxScaler\n",
    "df['t-in-normalized'] = MinMaxScaler().fit_transform(df['t-in'].values)"
   ]
  },
  {
   "cell_type": "code",
   "execution_count": 302,
   "metadata": {},
   "outputs": [
    {
     "data": {
      "text/html": [
       "<div style=\"width:100%;\"><div style=\"position:relative;width:100%;height:0;padding-bottom:60%;\"><iframe src=\"data:text/html;charset=utf-8;base64,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\" style=\"position:absolute;width:100%;height:100%;left:0;top:0;border:none !important;\" allowfullscreen webkitallowfullscreen mozallowfullscreen></iframe></div></div>"
      ],
      "text/plain": [
       "<folium.folium.Map at 0x1191a1ed0>"
      ]
     },
     "execution_count": 302,
     "metadata": {},
     "output_type": "execute_result"
    }
   ],
   "source": [
    "m = folium.Map([lat0, lon0], tiles='stamentoner', zoom_start=16)\n",
    "plugins.HeatMap(df[['lat', 'lon', 't-in-normalized']].values.tolist()).add_to(m)\n",
    "m"
   ]
  },
  {
   "cell_type": "markdown",
   "metadata": {},
   "source": [
    "As we notice from the above map \n",
    "- the temperature rises across the ride (start bottom-left, end top-right)\n",
    "- the hot in bottom-left corresponds to the starting/ending point where we touced the temperature sensor.\n"
   ]
  },
  {
   "cell_type": "code",
   "execution_count": null,
   "metadata": {
    "collapsed": true
   },
   "outputs": [],
   "source": []
  }
 ],
 "metadata": {
  "kernelspec": {
   "display_name": "Python 2",
   "language": "python",
   "name": "python2"
  },
  "language_info": {
   "codemirror_mode": {
    "name": "ipython",
    "version": 2
   },
   "file_extension": ".py",
   "mimetype": "text/x-python",
   "name": "python",
   "nbconvert_exporter": "python",
   "pygments_lexer": "ipython2",
   "version": "2.7.12"
  }
 },
 "nbformat": 4,
 "nbformat_minor": 2
}
